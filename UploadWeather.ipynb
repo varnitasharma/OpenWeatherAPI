{
 "cells": [
  {
   "cell_type": "code",
   "execution_count": 1,
   "metadata": {},
   "outputs": [],
   "source": [
    "import requests\n",
    "from dotenv import load_dotenv\n",
    "import os\n",
    "from openai import OpenAI\n",
    "\n",
    "# Load variables from .env file and override existing environment variables if any\n",
    "load_dotenv('.env', override=True)\n",
    "\n",
    "# Access the environment variable\n",
    "api_key = os.getenv('WEATHER_API_KEY')"
   ]
  },
  {
   "cell_type": "code",
   "execution_count": 2,
   "metadata": {},
   "outputs": [
    {
     "name": "stdout",
     "output_type": "stream",
     "text": [
      "The weather in Chennai City is Haze and the temperature is 30.51°C\n"
     ]
    }
   ],
   "source": [
    "user_input=input(\"Enter city: \")\n",
    "weather_data=requests.get(f\"https://api.openweathermap.org/data/2.5/weather?q={user_input}&units=metric&appid={api_key}\")\n",
    "#Error Handling for incorrect city\n",
    "if weather_data.json()['cod']=='404':\n",
    "    print(f\"No {user_input} City Found\")\n",
    "else:\n",
    "    weather=weather_data.json()['weather'][0]['main']\n",
    "    temp=weather_data.json()['main']['temp']\n",
    "    print(f\"The weather in {user_input} City is {weather} and the temperature is {temp}°C\")"
   ]
  }
 ],
 "metadata": {
  "kernelspec": {
   "display_name": "Python 3",
   "language": "python",
   "name": "python3"
  },
  "language_info": {
   "codemirror_mode": {
    "name": "ipython",
    "version": 3
   },
   "file_extension": ".py",
   "mimetype": "text/x-python",
   "name": "python",
   "nbconvert_exporter": "python",
   "pygments_lexer": "ipython3",
   "version": "3.12.5"
  }
 },
 "nbformat": 4,
 "nbformat_minor": 2
}
